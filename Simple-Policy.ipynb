{
 "cells": [
  {
   "cell_type": "markdown",
   "metadata": {},
   "source": [
    "# Multi-Armed Bandit"
   ]
  },
  {
   "cell_type": "code",
   "execution_count": 2,
   "metadata": {},
   "outputs": [],
   "source": [
    "import tensorflow as tf\n",
    "import tensorflow.contrib.slim as slim\n",
    "import numpy as np"
   ]
  },
  {
   "cell_type": "markdown",
   "metadata": {},
   "source": [
    "## Bandit 정의"
   ]
  },
  {
   "cell_type": "code",
   "execution_count": 6,
   "metadata": {},
   "outputs": [],
   "source": [
    "bandit_arms = [0.2,0,-0.2,-2] # 밴딧의 손잡이 목록\n",
    "num_arms = len(bandit_arms)\n",
    "\n",
    "# bandit이 작을수록 +의 반환이 될 확률이 높음. '\n",
    "# 따라서 현재 손잡이에선 인덱스 3의 손잡이가 확률 가장 높음\n",
    "def pullBandit(bandit):\n",
    "    # bandit에 따라 받게 되는 리워드 (1 또는 -1)\n",
    "    #Get a random number.\n",
    "    result = np.random.randn(1)\n",
    "    if result > bandit:\n",
    "        #return a positive reward. \n",
    "        return 1 # +\n",
    "    else:\n",
    "        #return a negative reward.\n",
    "        return -1 # -"
   ]
  },
  {
   "cell_type": "markdown",
   "metadata": {},
   "source": [
    "우리가 원하는 것은 에이전트가 언제나 +의 보상을 가져올 손잡이를 선택하도록 학습하는 것이다."
   ]
  },
  {
   "cell_type": "markdown",
   "metadata": {},
   "source": [
    "## 에이전트\n",
    "간단한 신경망 구현. \n",
    "\n",
    "$ Loss = -log(파이)*A $"
   ]
  },
  {
   "cell_type": "code",
   "execution_count": 7,
   "metadata": {},
   "outputs": [],
   "source": [
    "tf.reset_default_graph()\n",
    "\n",
    "# 네트워크의 피드포워드 부분 구현\n",
    "weights = tf.Variable(tf.ones([num_arms]))\n",
    "output = tf.nn.softmax(weights)\n",
    "\n",
    "# 학습 과정 구현\n",
    "# 보상과 선택된 액션을 네트워크에 피드해줌으로써 비용을 계산하고,\n",
    "# 비용을 이용해 네트워크 가중치를 update함\n",
    "reward_holder = tf.placeholder(shape=[1],dtype=tf.float32)\n",
    "action_holder = tf.placeholder(shape=[1],dtype=tf.int32)\n",
    "\n",
    "responsible_output = tf.slice(output,action_holder,[1])\n",
    "loss = -(tf.log(responsible_output)*reward_holder)\n",
    "optimizer = tf.train.AdamOptimizer(learning_rate=1e-3)\n",
    "update = optimizer.minimize(loss)"
   ]
  },
  {
   "cell_type": "markdown",
   "metadata": {},
   "source": [
    "## 에이전트 학습"
   ]
  },
  {
   "cell_type": "code",
   "execution_count": 9,
   "metadata": {},
   "outputs": [
    {
     "name": "stdout",
     "output_type": "stream",
     "text": [
      "Running reward for the 4 arms of the bandit: [1. 0. 0. 0.]\n",
      "Running reward for the 4 arms of the bandit: [-2. -4.  0. 11.]\n",
      "Running reward for the 4 arms of the bandit: [-2.  0.  5. 24.]\n",
      "Running reward for the 4 arms of the bandit: [-3.  1.  3. 36.]\n",
      "Running reward for the 4 arms of the bandit: [-3.  4.  3. 47.]\n",
      "Running reward for the 4 arms of the bandit: [-6. 10. -2. 59.]\n",
      "Running reward for the 4 arms of the bandit: [-9. 15.  5. 68.]\n",
      "Running reward for the 4 arms of the bandit: [-7. 16.  4. 84.]\n",
      "Running reward for the 4 arms of the bandit: [-13.  12.   6.  98.]\n",
      "Running reward for the 4 arms of the bandit: [-14.  15.   4. 106.]\n",
      "Running reward for the 4 arms of the bandit: [-17.  15.   5. 124.]\n",
      "Running reward for the 4 arms of the bandit: [-15.  22.   7. 137.]\n",
      "Running reward for the 4 arms of the bandit: [ -9.  16.  11. 153.]\n",
      "Running reward for the 4 arms of the bandit: [ -7.  15.  15. 174.]\n",
      "Running reward for the 4 arms of the bandit: [-11.  16.  22. 186.]\n",
      "Running reward for the 4 arms of the bandit: [-14.  14.  24. 205.]\n",
      "Running reward for the 4 arms of the bandit: [-14.   7.  24. 230.]\n",
      "Running reward for the 4 arms of the bandit: [-20.  11.  32. 246.]\n",
      "Running reward for the 4 arms of the bandit: [-25.  11.  31. 266.]\n",
      "Running reward for the 4 arms of the bandit: [-27.   7.  30. 283.]\n",
      "\n",
      "The agent thinks arm 4 is the most promising....\n",
      "...and it was right!\n"
     ]
    }
   ],
   "source": [
    "total_episodes = 1000 #Set total number of episodes to train agent on.\n",
    "\n",
    "# 각 손잡이에 대한 reward를 0으로 초기화\n",
    "total_reward = np.zeros(num_arms) #Set scoreboard for bandit arms to 0.\n",
    "\n",
    "init = tf.global_variables_initializer()\n",
    "\n",
    "# Launch the tensorflow graph\n",
    "with tf.Session() as sess:\n",
    "    sess.run(init)\n",
    "    i = 0\n",
    "    while i < total_episodes:\n",
    "        \n",
    "        # 볼츠만 분포에 따라 액션 선택\n",
    "        actions = sess.run(output)\n",
    "        a = np.random.choice(actions,p=actions)\n",
    "        action = np.argmax(actions == a)\n",
    "        \n",
    "        # 밴딧 손잡이 중 하나를 선택해서 보상을 받음\n",
    "        reward = pullBandit(bandit_arms[action]) #Get our reward from picking one of the bandit arms.\n",
    "        \n",
    "        # 네트워크 업데이트\n",
    "        _,resp,ww = sess.run([update,\n",
    "                              responsible_output,\n",
    "                              weights], \n",
    "                              feed_dict={reward_holder:[reward],\n",
    "                                        action_holder:[action]})\n",
    "        \n",
    "        # total reward 업데이트\n",
    "        total_reward[action] += reward\n",
    "        if i % 50 == 0:\n",
    "            print(\"Running reward for the \" + str(num_arms) + \" arms of the bandit: \" + str(total_reward))\n",
    "        i+=1\n",
    "print(\"\\nThe agent thinks arm \" + str(np.argmax(ww)+1) + \" is the most promising....\")\n",
    "if np.argmax(ww) == np.argmax(-np.array(bandit_arms)):\n",
    "    print(\"...and it was right!\")\n",
    "else:\n",
    "    print(\"...and it was wrong!\")"
   ]
  },
  {
   "cell_type": "code",
   "execution_count": null,
   "metadata": {},
   "outputs": [],
   "source": []
  },
  {
   "cell_type": "code",
   "execution_count": 11,
   "metadata": {},
   "outputs": [
    {
     "data": {
      "text/plain": [
       "array([0.78322226, 0.844812  , 0.9155914 , 1.4349186 ], dtype=float32)"
      ]
     },
     "execution_count": 11,
     "metadata": {},
     "output_type": "execute_result"
    }
   ],
   "source": [
    "ww"
   ]
  },
  {
   "cell_type": "code",
   "execution_count": 15,
   "metadata": {},
   "outputs": [
    {
     "data": {
      "text/plain": [
       "array([-0.2, -0. ,  0.2,  2. ])"
      ]
     },
     "execution_count": 15,
     "metadata": {},
     "output_type": "execute_result"
    }
   ],
   "source": [
    "-np.array(bandit_arms)"
   ]
  },
  {
   "cell_type": "code",
   "execution_count": null,
   "metadata": {},
   "outputs": [],
   "source": []
  }
 ],
 "metadata": {
  "kernelspec": {
   "display_name": "tf1",
   "language": "python",
   "name": "tf1"
  },
  "language_info": {
   "codemirror_mode": {
    "name": "ipython",
    "version": 3
   },
   "file_extension": ".py",
   "mimetype": "text/x-python",
   "name": "python",
   "nbconvert_exporter": "python",
   "pygments_lexer": "ipython3",
   "version": "3.6.12"
  }
 },
 "nbformat": 4,
 "nbformat_minor": 4
}
