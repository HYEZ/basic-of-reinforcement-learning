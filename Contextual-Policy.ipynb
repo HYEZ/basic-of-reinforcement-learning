{
 "cells": [
  {
   "cell_type": "markdown",
   "metadata": {},
   "source": [
    "# Context Bandit"
   ]
  },
  {
   "cell_type": "code",
   "execution_count": 3,
   "metadata": {},
   "outputs": [],
   "source": [
    "import tensorflow as tf\n",
    "import tensorflow.contrib.slim as slim\n",
    "import numpy as np1"
   ]
  },
  {
   "cell_type": "markdown",
   "metadata": {},
   "source": [
    "## 콘텍스트 밴딧\n",
    "각 밴딧마다 최적의 결과를 내는 다른 action이 요구됨"
   ]
  },
  {
   "cell_type": "code",
   "execution_count": 4,
   "metadata": {},
   "outputs": [],
   "source": [
    "class contextual_bandit():\n",
    "    def __init__(self):\n",
    "        self.state = 0\n",
    "        \n",
    "        # 밴딧들의 손잡이 목록, 각 밴딧은 손잡이 4, 2, 1이 최적임\n",
    "        self.bandits = np.array([[0.2,0,-0.0,-5],\n",
    "                                 [0.1,-5,1,0.25],\n",
    "                                 [-5,5,5,5]])\n",
    "        self.num_bandits = self.bandits.shape[0]\n",
    "        self.num_actions = self.bandits.shape[1]\n",
    "        \n",
    "    def getBandit(self):\n",
    "        # 각 에피소드에 대해 랜덤한 상태를 반환\n",
    "        self.state = np.random.randint(0,len(self.bandits)) \n",
    "        return self.state\n",
    "        \n",
    "    def pullArm(self,action):\n",
    "        #Get a random number.\n",
    "        bandit = self.bandits[self.state,action]\n",
    "        result = np.random.randn(1)\n",
    "        if result > bandit:\n",
    "            #return a positive reward.\n",
    "            return 1\n",
    "        else:\n",
    "            #return a negative reward.\n",
    "            return -1"
   ]
  },
  {
   "cell_type": "markdown",
   "metadata": {},
   "source": [
    "## 정책 기반 에이전트"
   ]
  },
  {
   "cell_type": "code",
   "execution_count": 6,
   "metadata": {},
   "outputs": [],
   "source": [
    "class agent():\n",
    "    def __init__(self, lr, s_size, a_size):\n",
    "        # 네트워크의 피드포워드 부분.\n",
    "        # 에이전트는 상태를 받아서 액션을 출력함\n",
    "        self.state_in= tf.placeholder(shape=[1],dtype=tf.int32)\n",
    "        state_in_OH = slim.one_hot_encoding(self.state_in,s_size)\n",
    "        output = slim.fully_connected(state_in_OH,\n",
    "                                      a_size,\n",
    "                                      biases_initializer=None,\n",
    "                                      activation_fn=tf.nn.sigmoid,\n",
    "                                      weights_initializer=tf.ones_initializer())\n",
    "        self.output = tf.reshape(output,[-1])\n",
    "        self.chosen_action = tf.argmax(self.output,0)\n",
    "        \n",
    "        \n",
    "        # 학습 과정 구현\n",
    "        # 비용을 계산하기 위해 보상과 선택된 액션을 네트워크에 피드하고,\n",
    "        # 네트워크를 업데이트하는데 에 이를 이용함\n",
    "        self.reward_holder = tf.placeholder(shape=[1],dtype=tf.float32)\n",
    "        self.action_holder = tf.placeholder(shape=[1],dtype=tf.int32)\n",
    "        self.responsible_weight = tf.slice(self.output,\n",
    "                                           self.action_holder,\n",
    "                                           [1])\n",
    "        self.loss = -(tf.log(self.responsible_weight)*self.reward_holder)\n",
    "        optimizer = tf.train.GradientDescentOptimizer(learning_rate=lr)\n",
    "        self.update = optimizer.minimize(self.loss)"
   ]
  },
  {
   "cell_type": "markdown",
   "metadata": {},
   "source": [
    "## 에이전트 학습\n",
    "에이전트는 환경의 상태를 알아내고, 액션을 취하고, 보상을 받음으로써 학습함\n"
   ]
  },
  {
   "cell_type": "code",
   "execution_count": 9,
   "metadata": {},
   "outputs": [
    {
     "name": "stdout",
     "output_type": "stream",
     "text": [
      "Mean reward for each of the 3 bandits: [-0.25  0.    0.  ]\n",
      "Mean reward for each of the 3 bandits: [33.75  9.5  30.5 ]\n",
      "Mean reward for each of the 3 bandits: [73.25 51.   68.  ]\n",
      "Mean reward for each of the 3 bandits: [108.75  91.5  104.  ]\n",
      "Mean reward for each of the 3 bandits: [144.   131.25 142.  ]\n",
      "Mean reward for each of the 3 bandits: [180.5  171.25 175.5 ]\n",
      "Mean reward for each of the 3 bandits: [221.5  206.75 206.  ]\n",
      "Mean reward for each of the 3 bandits: [260.25 242.75 239.75]\n",
      "Mean reward for each of the 3 bandits: [300.5  279.5  276.75]\n",
      "Mean reward for each of the 3 bandits: [338.25 314.   315.  ]\n",
      "Mean reward for each of the 3 bandits: [374.5  356.   347.25]\n",
      "Mean reward for each of the 3 bandits: [410.5  392.25 383.  ]\n",
      "Mean reward for each of the 3 bandits: [450.25 429.   416.5 ]\n",
      "Mean reward for each of the 3 bandits: [490.   464.   451.25]\n",
      "Mean reward for each of the 3 bandits: [524.5  503.5  482.75]\n",
      "Mean reward for each of the 3 bandits: [562.   541.   519.75]\n",
      "Mean reward for each of the 3 bandits: [602.25 572.   555.  ]\n",
      "Mean reward for each of the 3 bandits: [634.25 606.75 594.25]\n",
      "Mean reward for each of the 3 bandits: [672.   644.75 626.5 ]\n",
      "Mean reward for each of the 3 bandits: [711.5  683.   659.25]\n",
      "The agent thinks action 4 for bandit 1 is the most promising....\n",
      "...and it was right!\n",
      "The agent thinks action 2 for bandit 2 is the most promising....\n",
      "...and it was right!\n",
      "The agent thinks action 1 for bandit 3 is the most promising....\n",
      "...and it was right!\n"
     ]
    }
   ],
   "source": [
    "tf.reset_default_graph() #Clear the Tensorflow graph.\n",
    "\n",
    "# 밴딧 로드\n",
    "cBandit = contextual_bandit() #Load the bandits.\n",
    "\n",
    "# 에이전트 로드\n",
    "myAgent = agent(lr=0.001,\n",
    "                s_size=cBandit.num_bandits,\n",
    "                a_size=cBandit.num_actions) #Load the agent.\n",
    "\n",
    "# 네트워크 내부를 들여다보기 위해 평가할 가중치 \n",
    "weights = tf.trainable_variables()[0] #The weights we will evaluate to look into the network.\n",
    "\n",
    "# 학습시킬 전체 에피소드 수\n",
    "total_episodes = 10000 #Set total number of episodes to train agent on.\n",
    "\n",
    "# 각 밴딧의 각 액션에 대한 점수 초기화\n",
    "total_reward = np.zeros([cBandit.num_bandits,cBandit.num_actions]) #Set scoreboard for bandits to 0.\n",
    "\n",
    "# 랜덤한 액션을 취할 확률\n",
    "e = 0.1 #Set the chance of taking a random action.\n",
    "\n",
    "init = tf.global_variables_initializer()\n",
    "\n",
    "# Launch the tensorflow graph\n",
    "with tf.Session() as sess:\n",
    "    sess.run(init)\n",
    "    i = 0\n",
    "    while i < total_episodes:\n",
    "        # 랜덤 밴딧 (=state) 선택\n",
    "        s = cBandit.getBandit() #Get a state from the environment.\n",
    "        \n",
    "        #Choose either a random action or one from our network.\n",
    "        if np.random.rand(1) < e:\n",
    "            # 랜덤 액션 선택\n",
    "            action = np.random.randint(cBandit.num_actions)\n",
    "        else:\n",
    "            # 에이전트로부터 액션 선택 (0, 1, 2, 3 중에!)\n",
    "            action = sess.run(myAgent.chosen_action,\n",
    "                              feed_dict={myAgent.state_in:[s]})\n",
    "        \n",
    "        # 주어진 밴딧에 대해 액션을 취한 보상\n",
    "        reward = cBandit.pullArm(action) #Get our reward for taking an action given a bandit.\n",
    "        \n",
    "        # 네트워크 업데이트\n",
    "        feed_dict={myAgent.reward_holder:[reward],\n",
    "                   myAgent.action_holder:[action],\n",
    "                   myAgent.state_in:[s]}\n",
    "        _,ww = sess.run([myAgent.update,weights], \n",
    "                        feed_dict=feed_dict)\n",
    "        \n",
    "        # total reward 업데이트\n",
    "        total_reward[s,action] += reward\n",
    "        \n",
    "        if i % 500 == 0:\n",
    "            print(\"Mean reward for each of the \" + str(cBandit.num_bandits) + \" bandits: \" + str(np.mean(total_reward,axis=1)))\n",
    "            \n",
    "        i+=1\n",
    "        \n",
    "for a in range(cBandit.num_bandits):\n",
    "    print(\"The agent thinks action \" + str(np.argmax(ww[a])+1) + \" for bandit \" + str(a+1) + \" is the most promising....\")\n",
    "    if np.argmax(ww[a]) == np.argmin(cBandit.bandits[a]):\n",
    "        print(\"...and it was right!\")\n",
    "    else:\n",
    "        print(\"...and it was wrong!\")"
   ]
  },
  {
   "cell_type": "code",
   "execution_count": 8,
   "metadata": {},
   "outputs": [
    {
     "data": {
      "text/plain": [
       "array([[0.99946433, 0.99731004, 0.9994643 , 1.6395718 ],\n",
       "       [0.9978488 , 1.6376197 , 0.9826807 , 0.9967714 ],\n",
       "       [1.6385962 , 0.9780429 , 0.974486  , 0.97146916]], dtype=float32)"
      ]
     },
     "execution_count": 8,
     "metadata": {},
     "output_type": "execute_result"
    }
   ],
   "source": [
    "ww"
   ]
  },
  {
   "cell_type": "code",
   "execution_count": 10,
   "metadata": {},
   "outputs": [
    {
     "data": {
      "text/plain": [
       "array([[ -26.,    0.,  -17., 3046.],\n",
       "       [ -22., 2976.,  -58.,   -9.],\n",
       "       [3042.,  -90.,  -93.,  -93.]])"
      ]
     },
     "execution_count": 10,
     "metadata": {},
     "output_type": "execute_result"
    }
   ],
   "source": [
    "total_reward"
   ]
  },
  {
   "cell_type": "code",
   "execution_count": null,
   "metadata": {},
   "outputs": [],
   "source": []
  }
 ],
 "metadata": {
  "kernelspec": {
   "display_name": "tf1",
   "language": "python",
   "name": "tf1"
  },
  "language_info": {
   "codemirror_mode": {
    "name": "ipython",
    "version": 3
   },
   "file_extension": ".py",
   "mimetype": "text/x-python",
   "name": "python",
   "nbconvert_exporter": "python",
   "pygments_lexer": "ipython3",
   "version": "3.6.12"
  }
 },
 "nbformat": 4,
 "nbformat_minor": 4
}
