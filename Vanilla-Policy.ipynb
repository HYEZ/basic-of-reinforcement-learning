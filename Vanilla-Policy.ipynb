{
 "cells": [
  {
   "cell_type": "code",
   "execution_count": 2,
   "metadata": {},
   "outputs": [],
   "source": [
    "import tensorflow as tf\n",
    "import tensorflow.contrib.slim as slim\n",
    "import numpy as np\n",
    "import gym # 강화학습 환경 제공\n",
    "import matplotlib.pyplot as plt\n",
    "%matplotlib inline\n",
    "\n",
    "try:\n",
    "    xrange = xrange\n",
    "except:\n",
    "    xrange = range"
   ]
  },
  {
   "cell_type": "code",
   "execution_count": 3,
   "metadata": {},
   "outputs": [],
   "source": [
    "env = gym.make('CartPole-v0')"
   ]
  },
  {
   "cell_type": "markdown",
   "metadata": {},
   "source": [
    "### The Policy-Based Agent"
   ]
  },
  {
   "cell_type": "code",
   "execution_count": 12,
   "metadata": {},
   "outputs": [],
   "source": [
    "gamma = 0.99\n",
    "\n",
    "def discount_rewards(r):\n",
    "    # 보상의 1D 실수 배열을 취해서 discounted reward 계산\n",
    "    discounted_r = np.zeros_like(r)\n",
    "    running_add = 0\n",
    "    for t in reversed(xrange(0, r.size)):\n",
    "        running_add = running_add * gamma + r[t]\n",
    "        discounted_r[t] = running_add\n",
    "    return discounted_r"
   ]
  },
  {
   "cell_type": "code",
   "execution_count": 5,
   "metadata": {},
   "outputs": [
    {
     "data": {
      "text/plain": [
       "array([0, 0])"
      ]
     },
     "execution_count": 5,
     "metadata": {},
     "output_type": "execute_result"
    }
   ],
   "source": [
    " np.zeros_like([1, 2])"
   ]
  },
  {
   "cell_type": "code",
   "execution_count": 8,
   "metadata": {},
   "outputs": [
    {
     "data": {
      "text/plain": [
       "[2, 1, 0]"
      ]
     },
     "execution_count": 8,
     "metadata": {},
     "output_type": "execute_result"
    }
   ],
   "source": [
    "list(reversed(xrange(0, 3)))"
   ]
  },
  {
   "cell_type": "code",
   "execution_count": 13,
   "metadata": {},
   "outputs": [],
   "source": [
    "class agent():\n",
    "    def __init__(self, lr, s_size,a_size,h_size):\n",
    "        # 네트워크의 피드포워드 부분\n",
    "        # 에이전트는 상태를 받아서 액션을 출력함\n",
    "        self.state_in= tf.placeholder(shape=[None,s_size],\n",
    "                                      dtype=tf.float32)\n",
    "        hidden = slim.fully_connected(self.state_in,\n",
    "                                      h_size,\n",
    "                                      biases_initializer=None,\n",
    "                                      activation_fn=tf.nn.relu)\n",
    "        self.output = slim.fully_connected(hidden,\n",
    "                                           a_size,\n",
    "                                           activation_fn=tf.nn.softmax,\n",
    "                                           biases_initializer=None)\n",
    "        self.chosen_action = tf.argmax(self.output,1)\n",
    "        \n",
    "        # 학습 과정 구현\n",
    "        # 비용을 계산하기 위해 보상과 액션을 네트워크에 피드하고, \n",
    "        # 네트워크를 업데이트하는 데에 이를 이용함\n",
    "        self.reward_holder = tf.placeholder(shape=[None],\n",
    "                                            dtype=tf.float32)\n",
    "        self.action_holder = tf.placeholder(shape=[None],\n",
    "                                            dtype=tf.int32)\n",
    "        \n",
    "        self.indexes = tf.range(0, tf.shape(self.output)[0]) * tf.shape(self.output)[1] + self.action_holder\n",
    "        self.responsible_outputs = tf.gather(tf.reshape(self.output, [-1]), self.indexes)\n",
    "\n",
    "        self.loss = -tf.reduce_mean(tf.log(self.responsible_outputs)*self.reward_holder)\n",
    "        \n",
    "        tvars = tf.trainable_variables()\n",
    "        self.gradient_holders = []\n",
    "        \n",
    "        for idx,var in enumerate(tvars):\n",
    "            placeholder = tf.placeholder(tf.float32,name=str(idx)+'_holder')\n",
    "            self.gradient_holders.append(placeholder)\n",
    "        \n",
    "        self.gradients = tf.gradients(self.loss,tvars)\n",
    "        \n",
    "        optimizer = tf.train.AdamOptimizer(learning_rate=lr)\n",
    "        self.update_batch = optimizer.apply_gradients(zip(self.gradient_holders,tvars))"
   ]
  },
  {
   "cell_type": "markdown",
   "metadata": {},
   "source": [
    "## 에이전트 학습시키기"
   ]
  },
  {
   "cell_type": "code",
   "execution_count": 15,
   "metadata": {},
   "outputs": [
    {
     "name": "stderr",
     "output_type": "stream",
     "text": [
      "/Users/ohyeji/anaconda3/envs/tf1/lib/python3.6/site-packages/ipykernel_launcher.py:38: VisibleDeprecationWarning: Creating an ndarray from ragged nested sequences (which is a list-or-tuple of lists-or-tuples-or ndarrays with different lengths or shapes) is deprecated. If you meant to do this, you must specify 'dtype=object' when creating the ndarray\n"
     ]
    },
    {
     "name": "stdout",
     "output_type": "stream",
     "text": [
      "10.0\n",
      "19.71\n",
      "19.81\n",
      "21.21\n",
      "31.55\n",
      "37.02\n",
      "42.94\n",
      "52.32\n",
      "60.03\n",
      "77.8\n",
      "129.52\n",
      "126.47\n",
      "141.46\n",
      "159.94\n",
      "162.27\n",
      "156.02\n",
      "166.56\n",
      "158.58\n",
      "175.32\n",
      "184.21\n",
      "182.81\n",
      "177.68\n",
      "182.8\n",
      "188.09\n",
      "193.94\n",
      "195.32\n",
      "193.91\n",
      "194.41\n",
      "195.26\n",
      "197.42\n",
      "196.27\n",
      "196.65\n",
      "192.8\n",
      "196.27\n",
      "199.0\n",
      "196.32\n",
      "198.62\n",
      "194.43\n",
      "197.11\n",
      "195.74\n",
      "192.47\n",
      "195.86\n",
      "193.97\n",
      "180.77\n",
      "191.38\n",
      "196.02\n",
      "195.97\n",
      "192.96\n",
      "187.15\n",
      "194.93\n"
     ]
    }
   ],
   "source": [
    "tf.reset_default_graph() #Clear the Tensorflow graph.\n",
    "\n",
    "# 에이전트 로드\n",
    "# s_size: 상태 개수, a_size: 액션 개수, h_size: hidden_dim\n",
    "myAgent = agent(lr=1e-2, s_size=4, a_size=2, h_size=8) #Load the agent.\n",
    "\n",
    "# 에이전트를 학습시킬 총 에피소드 수 설정\n",
    "total_episodes = 5000 #Set total number of episodes to train agent on.\n",
    "max_ep = 999\n",
    "update_frequency = 5\n",
    "\n",
    "init = tf.global_variables_initializer()\n",
    "\n",
    "# Launch the tensorflow graph\n",
    "with tf.Session() as sess:\n",
    "    sess.run(init)\n",
    "    i = 0\n",
    "    total_reward = []\n",
    "    total_length = []\n",
    "    \n",
    "    # 버퍼 만들기\n",
    "    # 에이전트가 한 순간에 하나 이상의 경험을 가지도록 업데이트한다. \n",
    "    # 경험을 버퍼에 모아뒀다가 한번에 에이전트를 업데이트함\n",
    "    gradBuffer = sess.run(tf.trainable_variables())\n",
    "    for ix, grad in enumerate(gradBuffer):\n",
    "        gradBuffer[ix] = grad * 0\n",
    "        \n",
    "    while i < total_episodes:\n",
    "        s = env.reset() # CartPole\n",
    "        running_reward = 0\n",
    "        ep_history = [] # expierence trace (=rollout)\n",
    "        for j in range(max_ep):\n",
    "            # 네트워크 출력에서 확률적으로 액션을 선택한다. \n",
    "            a_dist = sess.run(myAgent.output,\n",
    "                              feed_dict={myAgent.state_in:[s]})\n",
    "            a = np.random.choice(a_dist[0],\n",
    "                                 p=a_dist[0])\n",
    "            a = np.argmax(a_dist == a)\n",
    "            \n",
    "            # 주어진 밴딧에 대해 액션을 취한 데 보상을 얻는다. \n",
    "            s1, r, d,_ = env.step(a) # d: done\n",
    "            ep_history.append([s,a,r,s1])\n",
    "            s = s1\n",
    "            running_reward += r\n",
    "            \n",
    "            if d == True:\n",
    "                # 네트워크를 업데이트한다. \n",
    "                ep_history = np.array(ep_history)\n",
    "                ep_history[:,2] = discount_rewards(ep_history[:,2])\n",
    "                feed_dict={myAgent.reward_holder:ep_history[:,2],\n",
    "                        myAgent.action_holder:ep_history[:,1],\n",
    "                           myAgent.state_in:np.vstack(ep_history[:,0])}\n",
    "                grads = sess.run(myAgent.gradients, \n",
    "                                 feed_dict=feed_dict)\n",
    "                \n",
    "                for idx, grad in enumerate(grads):\n",
    "                    gradBuffer[idx] += grad\n",
    "\n",
    "                if i % update_frequency == 0 and i != 0:\n",
    "                    feed_dict = dictionary = dict(zip(myAgent.gradient_holders, \n",
    "                                                      gradBuffer))\n",
    "                    _ = sess.run(myAgent.update_batch, feed_dict=feed_dict)\n",
    "                    \n",
    "                    # 버퍼 초기화\n",
    "                    for ix,grad in enumerate(gradBuffer):\n",
    "                        gradBuffer[ix] = grad * 0\n",
    "                \n",
    "                total_reward.append(running_reward)\n",
    "                total_length.append(j)\n",
    "                break\n",
    "\n",
    "        \n",
    "            #Update our running tally of scores.\n",
    "        if i % 100 == 0:\n",
    "            print(np.mean(total_reward[-100:])) # 리워드 평균\n",
    "        i += 1"
   ]
  },
  {
   "cell_type": "code",
   "execution_count": null,
   "metadata": {},
   "outputs": [],
   "source": []
  }
 ],
 "metadata": {
  "kernelspec": {
   "display_name": "tf1",
   "language": "python",
   "name": "tf1"
  },
  "language_info": {
   "codemirror_mode": {
    "name": "ipython",
    "version": 3
   },
   "file_extension": ".py",
   "mimetype": "text/x-python",
   "name": "python",
   "nbconvert_exporter": "python",
   "pygments_lexer": "ipython3",
   "version": "3.6.12"
  }
 },
 "nbformat": 4,
 "nbformat_minor": 4
}
