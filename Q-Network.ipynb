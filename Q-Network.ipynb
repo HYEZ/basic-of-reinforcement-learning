{
 "cells": [
  {
   "cell_type": "markdown",
   "metadata": {},
   "source": [
    "# 신경망을 통한 Q-러닝"
   ]
  },
  {
   "cell_type": "code",
   "execution_count": 2,
   "metadata": {},
   "outputs": [],
   "source": [
    "from __future__ import division\n",
    "\n",
    "import gym\n",
    "import numpy as np\n",
    "import random\n",
    "import tensorflow as tf\n",
    "import matplotlib.pyplot as plt\n",
    "%matplotlib inline"
   ]
  },
  {
   "cell_type": "code",
   "execution_count": 3,
   "metadata": {},
   "outputs": [],
   "source": [
    "env = gym.make('FrozenLake-v0')"
   ]
  },
  {
   "cell_type": "markdown",
   "metadata": {},
   "source": [
    "## 네트워크 만들기 "
   ]
  },
  {
   "cell_type": "code",
   "execution_count": 4,
   "metadata": {},
   "outputs": [],
   "source": [
    "tf.reset_default_graph()"
   ]
  },
  {
   "cell_type": "code",
   "execution_count": 5,
   "metadata": {},
   "outputs": [],
   "source": [
    "# 액션을 선택하는 데 사용되는 네트워크의 피드포워드 부분\n",
    "inputs1 = tf.placeholder(shape=[1,16],dtype=tf.float32) # 상태(원핫)\n",
    "W = tf.Variable(tf.random_uniform([16,4],0,0.01)) # 가중치가 Q테이블 셀 역할임\n",
    "Qout = tf.matmul(inputs1,W) \n",
    "predict = tf.argmax(Qout,1)\n",
    "\n",
    "# 타깃Q와 예측Q 값의 차의 제곱합을 구함으로써 비용 얻음\n",
    "nextQ = tf.placeholder(shape=[1,4],dtype=tf.float32) # 타깃Q \n",
    "loss = tf.reduce_sum(tf.square(nextQ - Qout)) \n",
    "trainer = tf.train.GradientDescentOptimizer(learning_rate=0.1)\n",
    "updateModel = trainer.minimize(loss)"
   ]
  },
  {
   "cell_type": "markdown",
   "metadata": {},
   "source": [
    "## 네트워크 학습"
   ]
  },
  {
   "cell_type": "code",
   "execution_count": 7,
   "metadata": {},
   "outputs": [
    {
     "name": "stdout",
     "output_type": "stream",
     "text": [
      "Percent of succesful episodes: 0.4435%\n"
     ]
    }
   ],
   "source": [
    "init = tf.global_variables_initializer()\n",
    "\n",
    "# Set learning parameters\n",
    "y = .99 # 감마\n",
    "e = 0.1\n",
    "num_episodes = 2000\n",
    "\n",
    "# 보상의 총계와 에피소드별 단계 수를 담을 리스트\n",
    "jList = [] # 에피소드별 단계 수\n",
    "rList = [] # 보상의 총계\n",
    "with tf.Session() as sess:\n",
    "    sess.run(init)\n",
    "    for i in range(num_episodes):\n",
    "        # 환경을 리셋하고 첫번째 새로운 관찰 얻음\n",
    "        s = env.reset()\n",
    "        rAll = 0\n",
    "        d = False\n",
    "        j = 0\n",
    "        \n",
    "        # Q 네트워크\n",
    "        while j < 99:\n",
    "            j+=1\n",
    "            \n",
    "            # Q 네트워크에서 e의 확률로 랜덤한 액션과 함께 그리디하게 액션 선택\n",
    "            a, allQ = sess.run([predict, Qout],\n",
    "                              feed_dict={inputs1:np.identity(16)[s:s+1]})\n",
    "            \n",
    "            # 랜덤 액션선택\n",
    "            if np.random.rand(1) < e:\n",
    "                a[0] = env.action_space.sample()\n",
    "                \n",
    "            # 환경으로부터 새로운 상태와 보상을 얻는다.\n",
    "            s1,r,d,_ = env.step(a[0])\n",
    "            \n",
    "            # 새로운 상태를 네트워크에 피드해줌으로써 Q'값 계산\n",
    "            Q1 = sess.run(Qout, \n",
    "                          feed_dict={inputs1:np.identity(16)[s1:s1+1]})\n",
    "            \n",
    "            # max Q'값 선택. 액션에 대한 타깃값을 설정\n",
    "            maxQ1 = np.max(Q1)\n",
    "            \n",
    "            targetQ = allQ\n",
    "            targetQ[0,a[0]] = r + y*maxQ1\n",
    "            \n",
    "            # 타깃 및 예측Q값을 이용해 네트워크 학습시킴\n",
    "            _,W1 = sess.run([updateModel,W],\n",
    "                            feed_dict={inputs1:np.identity(16)[s:s+1],\n",
    "                                       nextQ:targetQ})\n",
    "            rAll += r\n",
    "            s = s1\n",
    "            \n",
    "            if d == True:\n",
    "                # 모델을 학습해나감에 따라 랜덤 액션의 가능성을 줄여줌\n",
    "                e = 1./((i/50) + 10)\n",
    "                break\n",
    "        jList.append(j)\n",
    "        rList.append(rAll)\n",
    "print(\"Percent of succesful episodes: \" + str(sum(rList)/num_episodes) + \"%\")"
   ]
  },
  {
   "cell_type": "markdown",
   "metadata": {},
   "source": [
    "## 네트워크 성능 살펴보기"
   ]
  },
  {
   "cell_type": "code",
   "execution_count": 8,
   "metadata": {},
   "outputs": [
    {
     "data": {
      "text/plain": [
       "[<matplotlib.lines.Line2D at 0x14b1a9da0>]"
      ]
     },
     "execution_count": 8,
     "metadata": {},
     "output_type": "execute_result"
    },
    {
     "data": {
      "image/png": "[encoded data removed]",
      "text/plain": [
       "<Figure size 432x288 with 1 Axes>"
      ]
     },
     "metadata": {
      "needs_background": "light"
     },
     "output_type": "display_data"
    }
   ],
   "source": [
    "plt.plot(rList)"
   ]
  },
  {
   "cell_type": "code",
   "execution_count": 9,
   "metadata": {},
   "outputs": [
    {
     "data": {
      "text/plain": [
       "[<matplotlib.lines.Line2D at 0x14b544cf8>]"
      ]
     },
     "execution_count": 9,
     "metadata": {},
     "output_type": "execute_result"
    },
    {
     "data": {
      "image/png": "[encoded data removed]",
      "text/plain": [
       "<Figure size 432x288 with 1 Axes>"
      ]
     },
     "metadata": {
      "needs_background": "light"
     },
     "output_type": "display_data"
    }
   ],
   "source": [
    "plt.plot(jList)"
   ]
  },
  {
   "cell_type": "code",
   "execution_count": null,
   "metadata": {},
   "outputs": [],
   "source": []
  }
 ],
 "metadata": {
  "kernelspec": {
   "display_name": "tf1",
   "language": "python",
   "name": "tf1"
  },
  "language_info": {
   "codemirror_mode": {
    "name": "ipython",
    "version": 3
   },
   "file_extension": ".py",
   "mimetype": "text/x-python",
   "name": "python",
   "nbconvert_exporter": "python",
   "pygments_lexer": "ipython3",
   "version": "3.6.12"
  }
 },
 "nbformat": 4,
 "nbformat_minor": 4
}
